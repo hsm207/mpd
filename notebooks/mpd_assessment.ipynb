{
 "cells": [
  {
   "cell_type": "markdown",
   "metadata": {
    "toc": true
   },
   "source": [
    "<h1>Table of Contents<span class=\"tocSkip\"></span></h1>\n",
    "<div class=\"toc\" style=\"margin-top: 1em;\"><ul class=\"toc-item\"><li><span><a href=\"#Introduction\" data-toc-modified-id=\"Introduction-1\"><span class=\"toc-item-num\">1&nbsp;&nbsp;</span>Introduction</a></span></li><li><span><a href=\"#Setup\" data-toc-modified-id=\"Setup-2\"><span class=\"toc-item-num\">2&nbsp;&nbsp;</span>Setup</a></span></li><li><span><a href=\"#Libraries\" data-toc-modified-id=\"Libraries-3\"><span class=\"toc-item-num\">3&nbsp;&nbsp;</span>Libraries</a></span></li><li><span><a href=\"#Data\" data-toc-modified-id=\"Data-4\"><span class=\"toc-item-num\">4&nbsp;&nbsp;</span>Data</a></span></li><li><span><a href=\"#EDA\" data-toc-modified-id=\"EDA-5\"><span class=\"toc-item-num\">5&nbsp;&nbsp;</span>EDA</a></span><ul class=\"toc-item\"><li><span><a href=\"#Target-labels\" data-toc-modified-id=\"Target-labels-5.1\"><span class=\"toc-item-num\">5.1&nbsp;&nbsp;</span>Target labels</a></span></li><li><span><a href=\"#Input-text\" data-toc-modified-id=\"Input-text-5.2\"><span class=\"toc-item-num\">5.2&nbsp;&nbsp;</span>Input text</a></span></li></ul></li><li><span><a href=\"#Train-and-test-splits\" data-toc-modified-id=\"Train-and-test-splits-6\"><span class=\"toc-item-num\">6&nbsp;&nbsp;</span>Train and test splits</a></span></li><li><span><a href=\"#Models\" data-toc-modified-id=\"Models-7\"><span class=\"toc-item-num\">7&nbsp;&nbsp;</span>Models</a></span><ul class=\"toc-item\"><li><span><a href=\"#Random-Classifier\" data-toc-modified-id=\"Random-Classifier-7.1\"><span class=\"toc-item-num\">7.1&nbsp;&nbsp;</span>Random Classifier</a></span></li><li><span><a href=\"#Most-Frequent-Classifier\" data-toc-modified-id=\"Most-Frequent-Classifier-7.2\"><span class=\"toc-item-num\">7.2&nbsp;&nbsp;</span>Most Frequent Classifier</a></span></li><li><span><a href=\"#Multilingual-BERT\" data-toc-modified-id=\"Multilingual-BERT-7.3\"><span class=\"toc-item-num\">7.3&nbsp;&nbsp;</span>Multilingual BERT</a></span></li></ul></li></ul></div>"
   ]
  },
  {
   "cell_type": "markdown",
   "metadata": {},
   "source": [
    "# Introduction"
   ]
  },
  {
   "cell_type": "markdown",
   "metadata": {},
   "source": [
    "This notebook contains my submission for Media Prima Digital's Data Science Assesment."
   ]
  },
  {
   "cell_type": "markdown",
   "metadata": {},
   "source": [
    "# Setup"
   ]
  },
  {
   "cell_type": "code",
   "execution_count": 1,
   "metadata": {},
   "outputs": [],
   "source": [
    "%matplotlib inline"
   ]
  },
  {
   "cell_type": "markdown",
   "metadata": {},
   "source": [
    "Navigate to the project's root directory:"
   ]
  },
  {
   "cell_type": "code",
   "execution_count": 2,
   "metadata": {},
   "outputs": [
    {
     "name": "stdout",
     "output_type": "stream",
     "text": [
      "C:\\Users\\mshukri\\Documents\\GitHub\\mpd\n"
     ]
    }
   ],
   "source": [
    "%cd .."
   ]
  },
  {
   "cell_type": "markdown",
   "metadata": {},
   "source": [
    "# Libraries"
   ]
  },
  {
   "cell_type": "code",
   "execution_count": 3,
   "metadata": {},
   "outputs": [],
   "source": [
    "import pandas as pd\n",
    "import numpy as np\n",
    "from sklearn.model_selection import train_test_split\n",
    "from sklearn import preprocessing\n",
    "import src.metrics as metrics"
   ]
  },
  {
   "cell_type": "markdown",
   "metadata": {},
   "source": [
    "# Data"
   ]
  },
  {
   "cell_type": "markdown",
   "metadata": {},
   "source": [
    "Load the data:"
   ]
  },
  {
   "cell_type": "code",
   "execution_count": 4,
   "metadata": {},
   "outputs": [],
   "source": [
    "df = pd.read_excel('data/MPD data science assessment NLP v1.1.xlsx',\n",
    "                    sheet_name='nstp_articles_sample',\n",
    "                    keep_default_na=False)"
   ]
  },
  {
   "cell_type": "code",
   "execution_count": 5,
   "metadata": {},
   "outputs": [
    {
     "data": {
      "text/html": [
       "<div>\n",
       "<style scoped>\n",
       "    .dataframe tbody tr th:only-of-type {\n",
       "        vertical-align: middle;\n",
       "    }\n",
       "\n",
       "    .dataframe tbody tr th {\n",
       "        vertical-align: top;\n",
       "    }\n",
       "\n",
       "    .dataframe thead th {\n",
       "        text-align: right;\n",
       "    }\n",
       "</style>\n",
       "<table border=\"1\" class=\"dataframe\">\n",
       "  <thead>\n",
       "    <tr style=\"text-align: right;\">\n",
       "      <th></th>\n",
       "      <th>title</th>\n",
       "      <th>body</th>\n",
       "      <th>pub</th>\n",
       "      <th>sect</th>\n",
       "      <th>subsect</th>\n",
       "    </tr>\n",
       "  </thead>\n",
       "  <tbody>\n",
       "    <tr>\n",
       "      <th>count</th>\n",
       "      <td>1428</td>\n",
       "      <td>1428</td>\n",
       "      <td>1428</td>\n",
       "      <td>1428</td>\n",
       "      <td>1428</td>\n",
       "    </tr>\n",
       "    <tr>\n",
       "      <th>unique</th>\n",
       "      <td>1361</td>\n",
       "      <td>1405</td>\n",
       "      <td>3</td>\n",
       "      <td>27</td>\n",
       "      <td>46</td>\n",
       "    </tr>\n",
       "    <tr>\n",
       "      <th>top</th>\n",
       "      <td>Keputusan Liga Perdana Inggeris</td>\n",
       "      <td>© New Straits Times Press (M) Bhd\\n\\n</td>\n",
       "      <td>bh</td>\n",
       "      <td>berita</td>\n",
       "      <td></td>\n",
       "    </tr>\n",
       "    <tr>\n",
       "      <th>freq</th>\n",
       "      <td>4</td>\n",
       "      <td>3</td>\n",
       "      <td>569</td>\n",
       "      <td>297</td>\n",
       "      <td>536</td>\n",
       "    </tr>\n",
       "  </tbody>\n",
       "</table>\n",
       "</div>"
      ],
      "text/plain": [
       "                                  title  \\\n",
       "count                              1428   \n",
       "unique                             1361   \n",
       "top     Keputusan Liga Perdana Inggeris   \n",
       "freq                                  4   \n",
       "\n",
       "                                         body   pub    sect subsect  \n",
       "count                                    1428  1428    1428    1428  \n",
       "unique                                   1405     3      27      46  \n",
       "top     © New Straits Times Press (M) Bhd\\n\\n    bh  berita          \n",
       "freq                                        3   569     297     536  "
      ]
     },
     "execution_count": 5,
     "metadata": {},
     "output_type": "execute_result"
    }
   ],
   "source": [
    "df.describe()"
   ]
  },
  {
   "cell_type": "markdown",
   "metadata": {},
   "source": [
    "Create input and target columns:"
   ]
  },
  {
   "cell_type": "code",
   "execution_count": 6,
   "metadata": {},
   "outputs": [
    {
     "data": {
      "text/plain": [
       "<pandas.core.strings.StringMethods at 0x2933f1dd978>"
      ]
     },
     "execution_count": 6,
     "metadata": {},
     "output_type": "execute_result"
    }
   ],
   "source": [
    "df['title'].str.cat(df['body'], sep=' ').str"
   ]
  },
  {
   "cell_type": "code",
   "execution_count": 7,
   "metadata": {},
   "outputs": [
    {
     "data": {
      "text/html": [
       "<div>\n",
       "<style scoped>\n",
       "    .dataframe tbody tr th:only-of-type {\n",
       "        vertical-align: middle;\n",
       "    }\n",
       "\n",
       "    .dataframe tbody tr th {\n",
       "        vertical-align: top;\n",
       "    }\n",
       "\n",
       "    .dataframe thead th {\n",
       "        text-align: right;\n",
       "    }\n",
       "</style>\n",
       "<table border=\"1\" class=\"dataframe\">\n",
       "  <thead>\n",
       "    <tr style=\"text-align: right;\">\n",
       "      <th></th>\n",
       "      <th>title</th>\n",
       "      <th>body</th>\n",
       "      <th>pub</th>\n",
       "      <th>sect</th>\n",
       "      <th>subsect</th>\n",
       "      <th>text</th>\n",
       "    </tr>\n",
       "  </thead>\n",
       "  <tbody>\n",
       "    <tr>\n",
       "      <th>0</th>\n",
       "      <td>Iran warns protesters will &amp;#039;pay the price...</td>\n",
       "      <td>TEHRAN: Iran warned on Sunday that protesters ...</td>\n",
       "      <td>nst</td>\n",
       "      <td>world</td>\n",
       "      <td></td>\n",
       "      <td>Iran warns protesters will &amp;#039;pay the price...</td>\n",
       "    </tr>\n",
       "    <tr>\n",
       "      <th>1</th>\n",
       "      <td>Tiga minit, RM1.5 juta</td>\n",
       "      <td>[kalidevi@hmetro.com.my](mailto:kalidevi@hmetr...</td>\n",
       "      <td>hm</td>\n",
       "      <td>mutakhir</td>\n",
       "      <td></td>\n",
       "      <td>Tiga minit, RM1.5 juta [kalidevi@hmetro.com.my...</td>\n",
       "    </tr>\n",
       "    <tr>\n",
       "      <th>2</th>\n",
       "      <td>Tiada tol di Lebuhraya Persekutuan selepas 24 ...</td>\n",
       "      <td>[norrasyidah@bh.com.my](mailto:norrasyidah@bh....</td>\n",
       "      <td>bh</td>\n",
       "      <td>berita</td>\n",
       "      <td>nasional</td>\n",
       "      <td>Tiada tol di Lebuhraya Persekutuan selepas 24 ...</td>\n",
       "    </tr>\n",
       "    <tr>\n",
       "      <th>3</th>\n",
       "      <td>Pogba urges misfiring Man Utd to &amp;#039;wake up...</td>\n",
       "      <td>LONDON: Paul Pogba has called on Manchester Un...</td>\n",
       "      <td>nst</td>\n",
       "      <td>sports</td>\n",
       "      <td>football</td>\n",
       "      <td>Pogba urges misfiring Man Utd to &amp;#039;wake up...</td>\n",
       "    </tr>\n",
       "    <tr>\n",
       "      <th>4</th>\n",
       "      <td>Hundreds of Indonesian couples ring in the new...</td>\n",
       "      <td>JAKARTA: Hundreds of Indonesian couples celebr...</td>\n",
       "      <td>nst</td>\n",
       "      <td>world</td>\n",
       "      <td></td>\n",
       "      <td>Hundreds of Indonesian couples ring in the new...</td>\n",
       "    </tr>\n",
       "  </tbody>\n",
       "</table>\n",
       "</div>"
      ],
      "text/plain": [
       "                                               title  \\\n",
       "0  Iran warns protesters will &#039;pay the price...   \n",
       "1                             Tiga minit, RM1.5 juta   \n",
       "2  Tiada tol di Lebuhraya Persekutuan selepas 24 ...   \n",
       "3  Pogba urges misfiring Man Utd to &#039;wake up...   \n",
       "4  Hundreds of Indonesian couples ring in the new...   \n",
       "\n",
       "                                                body  pub      sect   subsect  \\\n",
       "0  TEHRAN: Iran warned on Sunday that protesters ...  nst     world             \n",
       "1  [kalidevi@hmetro.com.my](mailto:kalidevi@hmetr...   hm  mutakhir             \n",
       "2  [norrasyidah@bh.com.my](mailto:norrasyidah@bh....   bh    berita  nasional   \n",
       "3  LONDON: Paul Pogba has called on Manchester Un...  nst    sports  football   \n",
       "4  JAKARTA: Hundreds of Indonesian couples celebr...  nst     world             \n",
       "\n",
       "                                                text  \n",
       "0  Iran warns protesters will &#039;pay the price...  \n",
       "1  Tiga minit, RM1.5 juta [kalidevi@hmetro.com.my...  \n",
       "2  Tiada tol di Lebuhraya Persekutuan selepas 24 ...  \n",
       "3  Pogba urges misfiring Man Utd to &#039;wake up...  \n",
       "4  Hundreds of Indonesian couples ring in the new...  "
      ]
     },
     "execution_count": 7,
     "metadata": {},
     "output_type": "execute_result"
    }
   ],
   "source": [
    "df['text'] = df['title'].str.cat(df['body'], sep=' ').str.replace('\\n', ' ')\n",
    "df.head()"
   ]
  },
  {
   "cell_type": "code",
   "execution_count": 8,
   "metadata": {},
   "outputs": [
    {
     "data": {
      "text/html": [
       "<div>\n",
       "<style scoped>\n",
       "    .dataframe tbody tr th:only-of-type {\n",
       "        vertical-align: middle;\n",
       "    }\n",
       "\n",
       "    .dataframe tbody tr th {\n",
       "        vertical-align: top;\n",
       "    }\n",
       "\n",
       "    .dataframe thead th {\n",
       "        text-align: right;\n",
       "    }\n",
       "</style>\n",
       "<table border=\"1\" class=\"dataframe\">\n",
       "  <thead>\n",
       "    <tr style=\"text-align: right;\">\n",
       "      <th></th>\n",
       "      <th>title</th>\n",
       "      <th>body</th>\n",
       "      <th>pub</th>\n",
       "      <th>sect</th>\n",
       "      <th>subsect</th>\n",
       "      <th>text</th>\n",
       "      <th>target</th>\n",
       "    </tr>\n",
       "  </thead>\n",
       "  <tbody>\n",
       "    <tr>\n",
       "      <th>0</th>\n",
       "      <td>Iran warns protesters will &amp;#039;pay the price...</td>\n",
       "      <td>TEHRAN: Iran warned on Sunday that protesters ...</td>\n",
       "      <td>nst</td>\n",
       "      <td>world</td>\n",
       "      <td></td>\n",
       "      <td>Iran warns protesters will &amp;#039;pay the price...</td>\n",
       "      <td>world</td>\n",
       "    </tr>\n",
       "    <tr>\n",
       "      <th>1</th>\n",
       "      <td>Tiga minit, RM1.5 juta</td>\n",
       "      <td>[kalidevi@hmetro.com.my](mailto:kalidevi@hmetr...</td>\n",
       "      <td>hm</td>\n",
       "      <td>mutakhir</td>\n",
       "      <td></td>\n",
       "      <td>Tiga minit, RM1.5 juta [kalidevi@hmetro.com.my...</td>\n",
       "      <td>mutakhir</td>\n",
       "    </tr>\n",
       "    <tr>\n",
       "      <th>2</th>\n",
       "      <td>Tiada tol di Lebuhraya Persekutuan selepas 24 ...</td>\n",
       "      <td>[norrasyidah@bh.com.my](mailto:norrasyidah@bh....</td>\n",
       "      <td>bh</td>\n",
       "      <td>berita</td>\n",
       "      <td>nasional</td>\n",
       "      <td>Tiada tol di Lebuhraya Persekutuan selepas 24 ...</td>\n",
       "      <td>nasional</td>\n",
       "    </tr>\n",
       "    <tr>\n",
       "      <th>3</th>\n",
       "      <td>Pogba urges misfiring Man Utd to &amp;#039;wake up...</td>\n",
       "      <td>LONDON: Paul Pogba has called on Manchester Un...</td>\n",
       "      <td>nst</td>\n",
       "      <td>sports</td>\n",
       "      <td>football</td>\n",
       "      <td>Pogba urges misfiring Man Utd to &amp;#039;wake up...</td>\n",
       "      <td>football</td>\n",
       "    </tr>\n",
       "    <tr>\n",
       "      <th>4</th>\n",
       "      <td>Hundreds of Indonesian couples ring in the new...</td>\n",
       "      <td>JAKARTA: Hundreds of Indonesian couples celebr...</td>\n",
       "      <td>nst</td>\n",
       "      <td>world</td>\n",
       "      <td></td>\n",
       "      <td>Hundreds of Indonesian couples ring in the new...</td>\n",
       "      <td>world</td>\n",
       "    </tr>\n",
       "  </tbody>\n",
       "</table>\n",
       "</div>"
      ],
      "text/plain": [
       "                                               title  \\\n",
       "0  Iran warns protesters will &#039;pay the price...   \n",
       "1                             Tiga minit, RM1.5 juta   \n",
       "2  Tiada tol di Lebuhraya Persekutuan selepas 24 ...   \n",
       "3  Pogba urges misfiring Man Utd to &#039;wake up...   \n",
       "4  Hundreds of Indonesian couples ring in the new...   \n",
       "\n",
       "                                                body  pub      sect   subsect  \\\n",
       "0  TEHRAN: Iran warned on Sunday that protesters ...  nst     world             \n",
       "1  [kalidevi@hmetro.com.my](mailto:kalidevi@hmetr...   hm  mutakhir             \n",
       "2  [norrasyidah@bh.com.my](mailto:norrasyidah@bh....   bh    berita  nasional   \n",
       "3  LONDON: Paul Pogba has called on Manchester Un...  nst    sports  football   \n",
       "4  JAKARTA: Hundreds of Indonesian couples celebr...  nst     world             \n",
       "\n",
       "                                                text    target  \n",
       "0  Iran warns protesters will &#039;pay the price...     world  \n",
       "1  Tiga minit, RM1.5 juta [kalidevi@hmetro.com.my...  mutakhir  \n",
       "2  Tiada tol di Lebuhraya Persekutuan selepas 24 ...  nasional  \n",
       "3  Pogba urges misfiring Man Utd to &#039;wake up...  football  \n",
       "4  Hundreds of Indonesian couples ring in the new...     world  "
      ]
     },
     "execution_count": 8,
     "metadata": {},
     "output_type": "execute_result"
    }
   ],
   "source": [
    "def create_target(rows):\n",
    "    sect, subsect = rows\n",
    "    return subsect if subsect else sect\n",
    "\n",
    "df['target'] = df[['sect', 'subsect']].apply(create_target, axis=1)\n",
    "df.head()"
   ]
  },
  {
   "cell_type": "markdown",
   "metadata": {},
   "source": [
    "I assume that the goal is to classify `text` according to `target`."
   ]
  },
  {
   "cell_type": "markdown",
   "metadata": {},
   "source": [
    "# EDA"
   ]
  },
  {
   "cell_type": "markdown",
   "metadata": {},
   "source": [
    "## Target labels"
   ]
  },
  {
   "cell_type": "markdown",
   "metadata": {},
   "source": [
    "View distribution of target labels:"
   ]
  },
  {
   "cell_type": "code",
   "execution_count": 9,
   "metadata": {},
   "outputs": [
    {
     "data": {
      "text/plain": [
       "0.00      1.0\n",
       "0.25      3.0\n",
       "0.50     12.0\n",
       "0.75     30.0\n",
       "0.90     74.2\n",
       "0.95     96.1\n",
       "0.99    134.0\n",
       "1.00    134.0\n",
       "Name: count, dtype: float64"
      ]
     },
     "execution_count": 9,
     "metadata": {},
     "output_type": "execute_result"
    }
   ],
   "source": [
    "labels_df = df\\\n",
    "    .groupby('target')\\\n",
    "    .size()\\\n",
    "    .to_frame('count')\\\n",
    "    .sort_values('count', ascending=False)\n",
    "\n",
    "labels_df['count'].quantile([0, 0.25, 0.5, 0.75, 0.90, 0.95, 0.99, 1])"
   ]
  },
  {
   "cell_type": "markdown",
   "metadata": {},
   "source": [
    "Replace targets with count less 10 with 'unknown' class:"
   ]
  },
  {
   "cell_type": "code",
   "execution_count": 10,
   "metadata": {},
   "outputs": [],
   "source": [
    "minority_labels = labels_df.query('count < 10').reset_index()['target'].tolist()\n",
    "\n",
    "df['target'] = df['target'].where(~df['target'].isin(minority_labels), 'unknown')"
   ]
  },
  {
   "cell_type": "markdown",
   "metadata": {},
   "source": [
    "## Input text"
   ]
  },
  {
   "cell_type": "markdown",
   "metadata": {},
   "source": [
    "View distribution of `text` lengths:"
   ]
  },
  {
   "cell_type": "code",
   "execution_count": 11,
   "metadata": {},
   "outputs": [
    {
     "data": {
      "text/plain": [
       "0.00      10.00\n",
       "0.25     205.00\n",
       "0.50     278.00\n",
       "0.75     367.25\n",
       "0.90     512.30\n",
       "0.95     673.00\n",
       "1.00    3160.00\n",
       "Name: text_len, dtype: float64"
      ]
     },
     "execution_count": 11,
     "metadata": {},
     "output_type": "execute_result"
    }
   ],
   "source": [
    "df['text_len'] = df['text'].str.split(' ').apply(lambda r: len(r))\n",
    "\n",
    "df['text_len'].quantile([0, 0.25, 0.5, 0.75, 0.90, 0.95, 1])"
   ]
  },
  {
   "cell_type": "markdown",
   "metadata": {},
   "source": [
    "How many articles exceed 512 words?"
   ]
  },
  {
   "cell_type": "code",
   "execution_count": 12,
   "metadata": {},
   "outputs": [
    {
     "name": "stdout",
     "output_type": "stream",
     "text": [
      "There are 143 articles with more than 512 words\n"
     ]
    }
   ],
   "source": [
    "n, _ = df.query('text_len > 512').shape\n",
    "print(f'There are {n} articles with more than 512 words')"
   ]
  },
  {
   "cell_type": "markdown",
   "metadata": {},
   "source": [
    "# Train and test splits"
   ]
  },
  {
   "cell_type": "code",
   "execution_count": 13,
   "metadata": {},
   "outputs": [],
   "source": [
    "input_df = df[['text', 'pub', 'target']]"
   ]
  },
  {
   "cell_type": "markdown",
   "metadata": {},
   "source": [
    "Recode `target` column:"
   ]
  },
  {
   "cell_type": "code",
   "execution_count": 14,
   "metadata": {},
   "outputs": [
    {
     "name": "stdout",
     "output_type": "stream",
     "text": [
      "class\tlabel\n",
      "0\tamerika\n",
      "1\tarena\n",
      "2\tasia\n",
      "3\tbisnes\n",
      "4\tbola\n",
      "5\tbusiness\n",
      "6\tcolumnists\n",
      "7\tcrime-courts\n",
      "8\tfootball\n",
      "9\tglobal\n",
      "10\tgroove\n",
      "11\thati\n",
      "12\tkes\n",
      "13\tkorporat\n",
      "14\tlain-lain\n",
      "15\tmutakhir\n",
      "16\tnasional\n",
      "17\tnation\n",
      "18\tnuansa\n",
      "19\tothers\n",
      "20\tpasaran\n",
      "21\tpendidikan\n",
      "22\tpolitics\n",
      "23\tpolitik\n",
      "24\traket\n",
      "25\trap\n",
      "26\tselebriti\n",
      "27\tsetempat\n",
      "28\tunknown\n",
      "29\tutama\n",
      "30\twilayah\n",
      "31\tworld\n"
     ]
    }
   ],
   "source": [
    "label_encoder = preprocessing.LabelEncoder()\n",
    "label_encoder.fit(input_df['target'])\n",
    "\n",
    "print('class\\tlabel')\n",
    "for idx, label in enumerate(label_encoder.classes_):\n",
    "    print(f'{idx}\\t{label}')"
   ]
  },
  {
   "cell_type": "code",
   "execution_count": 15,
   "metadata": {},
   "outputs": [
    {
     "name": "stderr",
     "output_type": "stream",
     "text": [
      "C:\\Users\\mshukri\\Anaconda3\\envs\\tf\\lib\\site-packages\\pandas\\core\\indexing.py:630: SettingWithCopyWarning: \n",
      "A value is trying to be set on a copy of a slice from a DataFrame.\n",
      "Try using .loc[row_indexer,col_indexer] = value instead\n",
      "\n",
      "See the caveats in the documentation: http://pandas.pydata.org/pandas-docs/stable/indexing.html#indexing-view-versus-copy\n",
      "  self.obj[item_labels[indexer[info_axis]]] = value\n"
     ]
    }
   ],
   "source": [
    "input_df.loc[:, 'target'] = label_encoder.transform(input_df['target'])"
   ]
  },
  {
   "cell_type": "code",
   "execution_count": 16,
   "metadata": {},
   "outputs": [],
   "source": [
    "X_train, X_dev, Y_train, Y_dev = train_test_split(input_df[['text', 'pub']],\n",
    "                                                  input_df['target'],\n",
    "                                                  test_size=0.3,\n",
    "                                                  random_state=123, \n",
    "                                                  shuffle=True,\n",
    "                                                  stratify=input_df['target'])"
   ]
  },
  {
   "cell_type": "code",
   "execution_count": 17,
   "metadata": {},
   "outputs": [],
   "source": [
    "train_df = pd.concat([X_train, Y_train], axis=1)\n",
    "dev_df = pd.concat([X_dev, Y_dev], axis=1)"
   ]
  },
  {
   "cell_type": "code",
   "execution_count": 18,
   "metadata": {},
   "outputs": [],
   "source": [
    "train_df.to_csv('data/train.tsv', header=True, index=False, sep='\\t')\n",
    "dev_df.to_csv('data/dev.tsv', header=True, index=False, sep='\\t')"
   ]
  },
  {
   "cell_type": "markdown",
   "metadata": {},
   "source": [
    "# Models"
   ]
  },
  {
   "cell_type": "markdown",
   "metadata": {},
   "source": [
    "## Random Classifier"
   ]
  },
  {
   "cell_type": "code",
   "execution_count": 19,
   "metadata": {},
   "outputs": [
    {
     "name": "stderr",
     "output_type": "stream",
     "text": [
      "C:\\Users\\mshukri\\Anaconda3\\envs\\tf\\lib\\site-packages\\sklearn\\metrics\\classification.py:1145: UndefinedMetricWarning: F-score is ill-defined and being set to 0.0 in labels with no true samples.\n",
      "  'recall', 'true', average, warn_for)\n"
     ]
    }
   ],
   "source": [
    "np.random.seed(123)\n",
    "y_random = np.random.choice(label_encoder.classes_, Y_dev.size, )\n",
    "y_random = label_encoder.transform(y_random)\n",
    "\n",
    "random_df = dev_df.copy()\n",
    "random_df['pred'] = y_random\n",
    "metrics_random_classifier = metrics.compute_eval_metrics(random_df)"
   ]
  },
  {
   "cell_type": "code",
   "execution_count": 20,
   "metadata": {},
   "outputs": [
    {
     "name": "stdout",
     "output_type": "stream",
     "text": [
      "Overall accuracy:     0.0350\n",
      "Overall f1-macro:     0.0344\n",
      "\n",
      "BM accuracy:          0.0375\n",
      "BM f1-macro:          0.0311\n",
      "\n",
      "EN accuracy:          0.0294\n",
      "EN f1-macro:          0.0131\n",
      "\n"
     ]
    }
   ],
   "source": [
    "metrics.print_metrics(metrics_random_classifier)"
   ]
  },
  {
   "cell_type": "markdown",
   "metadata": {},
   "source": [
    "## Most Frequent Classifier"
   ]
  },
  {
   "cell_type": "code",
   "execution_count": 21,
   "metadata": {},
   "outputs": [
    {
     "name": "stderr",
     "output_type": "stream",
     "text": [
      "C:\\Users\\mshukri\\Anaconda3\\envs\\tf\\lib\\site-packages\\sklearn\\metrics\\classification.py:1143: UndefinedMetricWarning: F-score is ill-defined and being set to 0.0 in labels with no predicted samples.\n",
      "  'precision', 'predicted', average, warn_for)\n"
     ]
    }
   ],
   "source": [
    "most_freq_class = Y_train\\\n",
    "                    .to_frame()\\\n",
    "                    .groupby('target')\\\n",
    "                    .size()\\\n",
    "                    .sort_values(ascending=False)[0]\n",
    "\n",
    "most_freq_df = dev_df.copy()\n",
    "most_freq_df['pred'] = most_freq_class\n",
    "metrics_most_freq_classifier = metrics.compute_eval_metrics(most_freq_df)"
   ]
  },
  {
   "cell_type": "code",
   "execution_count": 22,
   "metadata": {},
   "outputs": [
    {
     "name": "stdout",
     "output_type": "stream",
     "text": [
      "Overall accuracy:     0.0932\n",
      "Overall f1-macro:     0.0053\n",
      "\n",
      "BM accuracy:          0.1365\n",
      "BM f1-macro:          0.0104\n",
      "\n",
      "EN accuracy:          0.0000\n",
      "EN f1-macro:          0.0000\n",
      "\n"
     ]
    }
   ],
   "source": [
    "metrics.print_metrics(metrics_most_freq_classifier)"
   ]
  },
  {
   "cell_type": "markdown",
   "metadata": {},
   "source": [
    "## Multilingual BERT"
   ]
  },
  {
   "cell_type": "code",
   "execution_count": 23,
   "metadata": {},
   "outputs": [],
   "source": [
    "!source activate mpd; python  src/train.py --data_dir ~/mpd_data --output_dir ~/mpd_output --num_classes 32"
   ]
  }
 ],
 "metadata": {
  "kernelspec": {
   "display_name": "TensorFlow",
   "language": "python",
   "name": "tf"
  },
  "language_info": {
   "codemirror_mode": {
    "name": "ipython",
    "version": 3
   },
   "file_extension": ".py",
   "mimetype": "text/x-python",
   "name": "python",
   "nbconvert_exporter": "python",
   "pygments_lexer": "ipython3",
   "version": "3.6.8"
  },
  "toc": {
   "nav_menu": {},
   "number_sections": true,
   "sideBar": true,
   "skip_h1_title": false,
   "toc_cell": true,
   "toc_position": {
    "height": "859px",
    "left": "0px",
    "right": "1708px",
    "top": "110px",
    "width": "212px"
   },
   "toc_section_display": "block",
   "toc_window_display": true
  }
 },
 "nbformat": 4,
 "nbformat_minor": 2
}
